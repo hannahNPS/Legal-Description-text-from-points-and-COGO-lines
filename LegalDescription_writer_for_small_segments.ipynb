{
 "cells": [
  {
   "cell_type": "code",
   "execution_count": null,
   "metadata": {},
   "outputs": [],
   "source": [
    "#PRE TASK - create a COGO Line layer\n",
    "    # ADD DIRECTIONTEXT FIELD\n",
    "    # THE FOLLOWING ARCADE TEXT WILL POPULATE THE DIRECTIONTEXT FIELD IF YOU USE \"CALCULATE FIELD\" TOOL -\n",
    "        # REMOVE \"#\" AT BEGINNING OF LINE IF YOU COPY AND PASTE THE CODE BELOW\n",
    "        \n",
    "#function NorthAzimuth2Quadbearing(azimuth){\n",
    "#  return ConvertDirection( azimuth, {directionType:'North', angleType: 'Degrees'}, {directionType:'Quadrant', angleType: 'DMS', outputType: 'text', format: 'pd[°]mm[\\']ss[\"]b'})\n",
    "#  }\n",
    "#NorthAzimuth2Quadbearing($feature.Direction)"
   ]
  },
  {
   "cell_type": "code",
   "execution_count": 7,
   "metadata": {},
   "outputs": [
    {
     "name": "stdout",
     "output_type": "stream",
     "text": [
      "Starting Point: [37.2323172, -77.34773029]\n",
      "Direction and Distances:\n",
      "Direction: S45°17'22\"W, Distance: 5.4 feet\n",
      "Direction: S53°49'44\"W, Distance: 30.4 feet\n",
      "Direction: S46°23'06\"W, Distance: 42.9 feet\n",
      "Direction: S50°11'03\"W, Distance: 41.8 feet\n",
      "Direction: S49°40'26\"W, Distance: 42.7 feet\n",
      "Direction: S48°59'00\"W, Distance: 43.4 feet\n",
      "Direction: S53°18'34\"W, Distance: 37.4 feet\n",
      "Direction: S12°09'09\"E, Distance: 6.3 feet\n",
      "Direction: S48°44'09\"W, Distance: 22.1 feet\n",
      "Direction: N85°01'58\"W, Distance: 4.8 feet\n"
     ]
    }
   ],
   "source": [
    "#TASK - CREATE QUICK LEGAL DESCRIPTION BASED ON THE STARTING POINTS - PULLING FROM YOUR POINTS LAYER\n",
    "    # AND FROM THE COGO LINE  \n",
    "#ACTION ITEMS:\n",
    "        # UPDATE YOUR WORKSPACE PATHWAY\n",
    "        # UPDATE YOUR POINT LAYER NAME\n",
    "        # UPDATE YOUR POLYLINE LAYER NAME\n",
    "        # UPDATE DIRECTION TEXT FIELD FROM YOUR COGO LINES LAYER\n",
    "        \n",
    "## NB - THIS WILL ONLY WORK FOR SMALL LINES, WITH ONE NORTHERN MOST STARTING POINT AND SUBSEQUENT COGO LINES\n",
    "\n",
    "import arcpy\n",
    "\n",
    "# Set the workspace\n",
    "arcpy.env.workspace = r'C:\\Users\\hdean\\Desktop\\PETE\\PETE_ROW_Project\\PETE_ROW_Project.gdb'\n",
    "\n",
    "# Input points layer and polyline layer\n",
    "points_layer = 'points'\n",
    "polylines_layer = 'Polylines_SplitLine'\n",
    "\n",
    "# Get the most northern point from the points layer\n",
    "north_latitude = None\n",
    "north_point = None\n",
    "with arcpy.da.SearchCursor(points_layer, ['Latitude', 'Longitude']) as cursor:\n",
    "    for row in cursor:\n",
    "        latitude = row[0]\n",
    "        if north_latitude is None or latitude > north_latitude:\n",
    "            north_latitude = latitude\n",
    "            north_point = (latitude, row[1])\n",
    "\n",
    "# Output the starting point\n",
    "if north_point is not None:\n",
    "    print(f\"Starting Point: [{north_point[0]}, {north_point[1]}]\")\n",
    "\n",
    "# Read out rows from the Polyline_SplitLine layer with direction text and distance\n",
    "print(\"Direction and Distances:\")\n",
    "with arcpy.da.SearchCursor(polylines_layer, ['directiontext', 'Distance']) as cursor:\n",
    "    for row in cursor:\n",
    "        print(f\"Direction: {row[0]}, Distance: {round(row[1],1)} feet\")\n",
    "\n"
   ]
  },
  {
   "cell_type": "code",
   "execution_count": null,
   "metadata": {},
   "outputs": [],
   "source": []
  }
 ],
 "metadata": {
  "kernelspec": {
   "display_name": "ArcGISPro",
   "language": "Python",
   "name": "python3"
  },
  "language_info": {
   "file_extension": ".py",
   "name": "python",
   "version": "3"
  }
 },
 "nbformat": 4,
 "nbformat_minor": 2
}
